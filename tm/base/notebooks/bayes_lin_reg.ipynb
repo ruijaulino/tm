{
 "cells": [
  {
   "cell_type": "code",
   "execution_count": 1,
   "metadata": {},
   "outputs": [],
   "source": [
    "import numpy as np\n",
    "import matplotlib.pyplot as plt\n",
    "plt.style.use('dark_background')"
   ]
  },
  {
   "cell_type": "code",
   "execution_count": 45,
   "metadata": {},
   "outputs": [
    {
     "data": {
      "image/png": "[encoded data removed]",
      "text/plain": [
       "<Figure size 432x288 with 1 Axes>"
      ]
     },
     "metadata": {
      "needs_background": "dark"
     },
     "output_type": "display_data"
    }
   ],
   "source": [
    "# generate data\n",
    "n = 10\n",
    "a = 0.1\n",
    "b = 0.25\n",
    "scale = 0.5\n",
    "x = np.random.normal(0, 1, n)\n",
    "y = a + b*x + np.random.normal(0, scale, n)\n",
    "plt.plot(x, y, '.')\n",
    "plt.show()"
   ]
  },
  {
   "cell_type": "code",
   "execution_count": 65,
   "metadata": {},
   "outputs": [
    {
     "data": {
      "image/png": "[encoded data removed]",
      "text/plain": [
       "<Figure size 432x288 with 1 Axes>"
      ]
     },
     "metadata": {
      "needs_background": "dark"
     },
     "output_type": "display_data"
    },
    {
     "data": {
      "image/png": "[encoded data removed]",
      "text/plain": [
       "<Figure size 432x288 with 1 Axes>"
      ]
     },
     "metadata": {
      "needs_background": "dark"
     },
     "output_type": "display_data"
    }
   ],
   "source": [
    "# bayesian inference\n",
    "\n",
    "class BayesLinRegr:\n",
    "    def __init__(self, kelly_std:float = 1, max_w:float = 1, intercept:bool = True):\n",
    "        self.kelly_std = kelly_std\n",
    "        self.max_w = max_w\n",
    "        self.intercept = intercept\n",
    "        # need to be estimated\n",
    "        self.a, self.b, self.w, self.V = None, None, None, None\n",
    "        self.w_norm = 1\n",
    "        \n",
    "    def view(self):\n",
    "        print('Bayesian Linear Regression NIG params')\n",
    "        print('wn')\n",
    "        print(self.w)\n",
    "        print('Vn')\n",
    "        print(self.V)\n",
    "        print('an, bn = ', self.a, self.b)\n",
    "        print('E[sigma^2] = ', self.b / (self.a - 1))\n",
    "        print('E[sigma] = ', np.sqrt(self.b / (self.a - 1)))\n",
    "    \n",
    "    def estimate(self, y, x, **kwargs):\n",
    "        if y.ndim == 2: assert y.shape[1] == 1, \"y must contain a single variable\"\n",
    "        y = y.ravel()\n",
    "        x = np.atleast_2d(x.T).T\n",
    "        n = y.size\n",
    "        if self.intercept:\n",
    "            x = np.hstack((np.ones((n, 1)), x))\n",
    "        n, p = x.shape\n",
    "\n",
    "        # prior for w\n",
    "        w0 = np.zeros(p) # this makes sense\n",
    "        V0 = np.eye(p) # find a better way to estimate this one\n",
    "        # prior for sigma^2\n",
    "        v = np.var(y)\n",
    "        k = 5\n",
    "        a0 = 2 # prior with infinite variance\n",
    "        b0 = v*(a0 - 1)\n",
    "        invV0 = np.linalg.inv(V0)\n",
    "        invVn = invV0 + x.T @ x         \n",
    "        self.V = np.linalg.inv(invVn)\n",
    "        self.w = self.V @ (x.T @ y + invV0 @ w0)\n",
    "        self.a = a0 + n / 2\n",
    "        self.b = b0 + 0.5*(w0.T @ invV0 @ w0 + np.dot(y,y) - self.w.T @ invVn @ self.w)\n",
    "    \n",
    "        # compute w norm\n",
    "        # normalization must be computed without\n",
    "        # second non central moment otherwise weight\n",
    "        # goes to zero for large moves\n",
    "        x_move = np.mean(x, axis = 0) + self.kelly_std * np.std(x, axis = 0)\n",
    "        mean_move = np.dot(np.abs(self.w), x_move)\n",
    "        var_move = self.b/(self.a - 1)        \n",
    "        w_move = mean_move / var_move\n",
    "        self.w_norm = w_move\n",
    "    \n",
    "    def posterior_predictive(self, xq, **kwargs):\n",
    "        '''\n",
    "        approximate with normal\n",
    "        '''\n",
    "        if not isinstance(xq, np.ndarray):\n",
    "            xq = np.array(xq)\n",
    "        xq = np.atleast_2d(xq)[-1]\n",
    "        if self.intercept: xq = np.hstack((0, xq))\n",
    "        mean = np.dot(self.w, xq)\n",
    "        var = self.b*(1 + np.dot(xq, np.dot(self.V, xq)))/(self.a - 1)\n",
    "        return mean, var\n",
    "    \n",
    "    def get_weight(self, xq, **kwargs):\n",
    "        m, v = self.posterior_predictive(xq)\n",
    "        w = m / (v + m*m)\n",
    "        w /= self.w_norm\n",
    "        if np.abs(w) > self.max_w:\n",
    "            w = np.sign(w) * self.max_w\n",
    "        return w\n",
    "    \n",
    "regr = BayesLinRegr()\n",
    "regr.estimate(y, x)   \n",
    "\n",
    "x_values = np.linspace(-10, 10, 100)\n",
    "\n",
    "y_est = np.zeros_like(x_values)\n",
    "std_est = np.zeros_like(x_values)\n",
    "w_est = np.zeros_like(x_values)\n",
    "\n",
    "for i in range(x_values.size):\n",
    "    m, v = regr.posterior_predictive(x_values[i])\n",
    "    y_est[i] = m\n",
    "    std_est[i] = np.sqrt(v)\n",
    "    w_est[i] = regr.get_weight(x_values[i])\n",
    "    \n",
    "plt.plot(x_values, w_est, '.')\n",
    "plt.show()\n",
    "\n",
    "plt.plot(x_values, y_est, '.')\n",
    "plt.plot(x_values, y_est - std_est, '.')\n",
    "plt.plot(x_values, y_est + std_est, '.')\n",
    "plt.show()\n"
   ]
  },
  {
   "cell_type": "code",
   "execution_count": null,
   "metadata": {},
   "outputs": [],
   "source": []
  },
  {
   "cell_type": "code",
   "execution_count": 21,
   "metadata": {},
   "outputs": [
    {
     "data": {
      "text/plain": [
       "numpy.int32"
      ]
     },
     "execution_count": 21,
     "metadata": {},
     "output_type": "execute_result"
    }
   ],
   "source": [
    "type(np.array([1,2])[0])\n",
    "\n",
    "\n",
    "#np.atleast_2d()\n"
   ]
  },
  {
   "cell_type": "code",
   "execution_count": null,
   "metadata": {},
   "outputs": [],
   "source": []
  }
 ],
 "metadata": {
  "kernelspec": {
   "display_name": "Python 3",
   "language": "python",
   "name": "python3"
  },
  "language_info": {
   "codemirror_mode": {
    "name": "ipython",
    "version": 3
   },
   "file_extension": ".py",
   "mimetype": "text/x-python",
   "name": "python",
   "nbconvert_exporter": "python",
   "pygments_lexer": "ipython3",
   "version": "3.8.5"
  }
 },
 "nbformat": 4,
 "nbformat_minor": 5
}
