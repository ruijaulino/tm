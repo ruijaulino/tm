{
 "cells": [
  {
   "cell_type": "code",
   "execution_count": 1,
   "metadata": {},
   "outputs": [],
   "source": [
    "import numpy as np\n",
    "from numba import jit\n",
    "from abc import ABC, abstractmethod\n",
    "from typing import List, Union, Dict\n",
    "import matplotlib.pyplot as plt\n",
    "plt.style.use('dark_background')"
   ]
  },
  {
   "cell_type": "code",
   "execution_count": 101,
   "metadata": {},
   "outputs": [],
   "source": [
    "# this can be compiled\n",
    "@jit(nopython=True)\n",
    "def hmm_forward(prob, A, P):\n",
    "    '''\n",
    "    Forward algorithm for the HMM\n",
    "    prob: numpy (n,n_states) array with\n",
    "        the probability of each observation\n",
    "        for each state\n",
    "    A: numpy (n_states,n_states) array with the state\n",
    "        transition matrix\n",
    "    P: numpy (n_states,) array with the initial\n",
    "        state probability\n",
    "    returns:\n",
    "        alpha: numpy (n,n_states) array meaning\n",
    "            p(state=i|obs <= i)\n",
    "        c: numpy (n,) array with the normalization\n",
    "            constants\n",
    "    '''\n",
    "    n_obs = prob.shape[0]\n",
    "    n_states = prob.shape[1]\n",
    "    alpha = np.zeros((n_obs,n_states), dtype = np.float64)\n",
    "    c = np.zeros(n_obs, dtype = np.float64)\n",
    "    alpha[0] = P*prob[0]\n",
    "    c[0] = 1 / np.sum(alpha[0])\n",
    "    alpha[0] *= c[0]\n",
    "    for i in range(1, n_obs):\n",
    "        alpha[i] = np.dot(A.T, alpha[i-1]) * prob[i] \n",
    "        c[i] = 1 / np.sum(alpha[i])\n",
    "        alpha[i] *= c[i]\n",
    "    return alpha, c\n",
    "\n",
    "# this can be compiled\n",
    "@jit(nopython=True)\n",
    "def hmm_backward_sample(A, alpha, z, transition_counter, init_state_counter):\n",
    "    '''\n",
    "    Backward sample from the state transition matrix and state sequence\n",
    "    A: numpy (n_states,n_states) array with the state\n",
    "        transition matrix\n",
    "    alpha: numpy (n,n_states) array meaning\n",
    "        p(state=i|obs <= i)\t\t\n",
    "    z: numpy (n,) to store the sample of state sequence\n",
    "    transition_counter: numpy (n_states,n_states) array to store \n",
    "        transition counts to be used to sample a state transition \n",
    "        matrix\n",
    "    init_state_counter: numpy (n_states,) array to store the\n",
    "        number of times state i is the initial one\n",
    "    returns:\n",
    "        none (q and transition_counter are changed inside this function)\n",
    "    '''\t\n",
    "    # backward walk to sample from the state sequence\n",
    "    n = z.size\n",
    "    # sample the last hidden state with probability alpha[-1]\n",
    "    z[n-1] = np.searchsorted(np.cumsum(alpha[-1]), np.random.random(), side = \"right\")\n",
    "    # aux variable\n",
    "    p = np.zeros(A.shape[0], dtype = np.float64)\n",
    "    # iterate backwards\n",
    "    for j in range(n-2, -1, -1):\n",
    "        # from formula\n",
    "        p = A[:,z[j+1]] * alpha[j] \n",
    "        # normalize (from formula)\n",
    "        p /= np.sum(p) \n",
    "        # sample hidden state with probability p\n",
    "        z[j] = np.searchsorted(np.cumsum(p), np.random.random(), side=\"right\")\n",
    "        # increment transition counter (we can do this calculation incrementally)\n",
    "        transition_counter[z[j],z[j+1]] += 1 \n",
    "    # increment initial state counter\n",
    "    init_state_counter[z[0]] += 1"
   ]
  },
  {
   "cell_type": "code",
   "execution_count": 92,
   "metadata": {},
   "outputs": [],
   "source": [
    "class uEmission(ABC):\n",
    "\n",
    "    def set_gibbs_parameters(self, n_gibbs, f_burn, n_gibbs_sim = None):\n",
    "        self.n_gibbs = n_gibbs\n",
    "        self.f_burn = f_burn\n",
    "        aux = int(self.n_gibbs*(1+self.f_burn))\n",
    "        self.n_gibbs_sim = aux if n_gibbs_sim is None else n_gibbs_sim\n",
    "\n",
    "    @abstractmethod\n",
    "    def view(self, plot_hist:bool = False):\n",
    "        \"\"\"Subclasses must implement this method\"\"\"\n",
    "        pass\n",
    "            \n",
    "    @abstractmethod\n",
    "    def gibbs_initialize(self, y:np.ndarray, x:np.ndarray = None, **kwargs):\n",
    "        \"\"\"Subclasses must implement this method\"\"\"\n",
    "        pass\n",
    "\n",
    "    @abstractmethod\n",
    "    def gibbs_posterior_sample(self, y:np.ndarray, x:np.ndarray, iteration:int, **kwargs):\n",
    "        \"\"\"Subclasses must implement this method\"\"\"\n",
    "        pass\n",
    "\n",
    "    @abstractmethod\n",
    "    def gibbs_burn_and_mean(self):\n",
    "        \"\"\"Subclasses must implement this method\"\"\"\n",
    "        pass\n",
    "\n",
    "    @abstractmethod\n",
    "    def gibbs_prob(self, y:np.ndarray, x:np.ndarray, iteration:int, **kwargs):\n",
    "        \"\"\"Subclasses must implement this method\"\"\"\n",
    "        pass\n",
    "\n",
    "    @abstractmethod\n",
    "    def prob(self, y:np.ndarray, x:np.ndarray, **kwargs):\n",
    "        \"\"\"Subclasses must implement this method\"\"\"\n",
    "        pass\n",
    "\n",
    "    @abstractmethod\n",
    "    def posterior_predictive(self, xq:np.ndarray, **kwargs):\n",
    "        \"\"\"Subclasses must implement this method\"\"\"\n",
    "        pass\n",
    "    \n",
    "    @abstractmethod\n",
    "    def predict_pi(self, xq:np.ndarray, **kwargs):\n",
    "        \"\"\"Subclasses must implement this method\"\"\"\n",
    "        pass"
   ]
  },
  {
   "cell_type": "code",
   "execution_count": null,
   "metadata": {},
   "outputs": [],
   "source": []
  },
  {
   "cell_type": "code",
   "execution_count": 93,
   "metadata": {},
   "outputs": [
    {
     "name": "stdout",
     "output_type": "stream",
     "text": [
      "** Univariate Gaussian Emission **\n",
      "Mean\n",
      "-1.0284651048082878\n",
      "Variance\n",
      "0.46728787019272783\n",
      "\n"
     ]
    },
    {
     "data": {
      "image/png": "[encoded data removed]",
      "text/plain": [
       "<Figure size 432x288 with 1 Axes>"
      ]
     },
     "metadata": {
      "needs_background": "dark"
     },
     "output_type": "display_data"
    },
    {
     "data": {
      "image/png": "[encoded data removed]",
      "text/plain": [
       "<Figure size 432x288 with 1 Axes>"
      ]
     },
     "metadata": {
      "needs_background": "dark"
     },
     "output_type": "display_data"
    }
   ],
   "source": [
    "# univariate gaussian\n",
    "class uGaussianEmission(uEmission):\n",
    "    def __init__(self, n_gibbs:int = 1000, f_burn:float = 0.1, min_points_update = 5):\n",
    "        \n",
    "        self.n_gibbs = n_gibbs\n",
    "        self.f_burn = f_burn\n",
    "        self.n_gibbs_sim = int(self.n_gibbs*(1+self.f_burn))\n",
    "        self.min_points_update = min_points_update\n",
    "        # variables to be computed\n",
    "        self.var = None\n",
    "        self.mean = None        \n",
    "        self.S0aux = None\n",
    "        self.invV0, self.invV0m0 = None, None\n",
    "        self.prev_mn, self.prev_Vn = None, None\n",
    "        self.prev_vn, self.prev_Sn = None, None \n",
    "    \n",
    "    def get_pdf_limits(self, k = 5):\n",
    "        return self.mean - 5*np.sqrt(self.var), self.mean + 5*np.sqrt(self.var)\n",
    "    \n",
    "    def pdf(self, x):\n",
    "        return np.exp(-0.5*np.power(x-self.mean,2)/self.var)/np.sqrt(2*np.pi*self.var)\n",
    "        \n",
    "    def view(self, plot_hist = False):\n",
    "        print('** Univariate Gaussian Emission **')\n",
    "        print('Mean')\n",
    "        print(self.mean)\n",
    "        print('Variance')\n",
    "        print(self.var)\n",
    "        print()\n",
    "        if plot_hist:\n",
    "            if self.gibbs_mean is not None:\n",
    "                plt.hist(\n",
    "                        self.gibbs_mean,\n",
    "                        density=True,\n",
    "                        alpha=0.5,\n",
    "                        label='Posterior mean samples histogram'\n",
    "                        )\n",
    "                plt.legend()\n",
    "                plt.grid(True)\n",
    "                plt.show()\n",
    "            if self.gibbs_var is not None:\n",
    "                plt.hist(\n",
    "                        self.gibbs_var,\n",
    "                        density=True,\n",
    "                        alpha=0.5,\n",
    "                        label='Posterior variance samples histogram'\n",
    "                        )\n",
    "                plt.legend()\n",
    "                plt.grid(True)\n",
    "                plt.show()\n",
    "\n",
    "    def gibbs_initialize(self, y, **kwargs):\n",
    "        assert y.ndim == 1, \"y must be a vector\"\n",
    "        # this will be updated later\n",
    "        self.mean = 0         \n",
    "        # Covariance samples\n",
    "        self.gibbs_var = np.zeros(self.n_gibbs_sim) \n",
    "        # Mean samples\n",
    "        self.gibbs_mean = np.zeros(self.n_gibbs_sim)          \n",
    "        # compute data variance\n",
    "        self.var = np.var(y)\n",
    "        # Prior distribution parameters\n",
    "        self.m0 = 0 # np.mean(y) # mean: prior location (just put it at zero...)\n",
    "        self.v0 = self.var # mean: prior covariance        \n",
    "        self.a0 = 2 # infinite variance...\n",
    "        self.b0 = self.var        \n",
    "        # initialize\n",
    "        self.gibbs_mean[0] = self.m0\n",
    "        self.gibbs_var[0] = self.var\n",
    "        # store parameters\n",
    "        self.prev_mn = self.m0\n",
    "        self.prev_vn = self.v0\n",
    "        self.prev_an = self.a0\n",
    "        self.prev_bn = self.b0\n",
    "\n",
    "    def gibbs_posterior_sample(self, y:np.ndarray, iteration:int, **kwargs):\n",
    "        '''\n",
    "        y: current set of observations\n",
    "        to be called while in sampler\n",
    "        '''\n",
    "        assert y.ndim == 1, \"y must be a vector\"\n",
    "        assert 0<iteration<self.n_gibbs_sim, \"iteration is larger than the number of iterations\"\n",
    "        # no observations in y\n",
    "        if y.size < self.min_points_update:\n",
    "            self.gibbs_mean[iteration] = np.random.normal(self.prev_mn, self.prev_vn)\n",
    "            self.gibbs_var[iteration] = 1 / np.random.gamma(self.prev_an, 1 / self.prev_bn)\n",
    "        else:\n",
    "            n = y.size\n",
    "            y_sum = np.sum(y)            \n",
    "            # Sample from mean\n",
    "            mn = (self.m0*self.gibbs_var[iteration-1] + self.v0*y_sum)\n",
    "            mn /= (n*self.v0 + self.gibbs_var[iteration-1])            \n",
    "            vn = self.gibbs_var[iteration-1] * self.v0 / (n*self.v0 + self.gibbs_var[iteration-1])\n",
    "            self.prev_mn = mn\n",
    "            self.prev_vn = vn\n",
    "            self.gibbs_mean[iteration] = np.random.normal(mn, vn)\n",
    "            # Sample from variance\n",
    "            an = self.a0 + n/2\n",
    "            bn = self.b0 + 0.5*np.sum(np.power(y-y_sum/n,2))\n",
    "            self.prev_an = an\n",
    "            self.prev_bn = bn\n",
    "            self.gibbs_var[iteration] = 1 / np.random.gamma(an, 1 / bn)\t\n",
    "\n",
    "    def gibbs_burn_and_mean(self):\n",
    "        self.gibbs_mean = self.gibbs_mean[-self.n_gibbs:]\n",
    "        self.gibbs_var = self.gibbs_var[-self.n_gibbs:]\t\t\n",
    "        self.mean = np.mean(self.gibbs_mean)\n",
    "        self.var = np.mean(self.gibbs_var)\t\n",
    "        self.w_norm = np.abs(self.mean / self.var) # betting weight\n",
    "    \n",
    "    def gibbs_prob(self, y:np.ndarray, iteration:int, **kwargs):\n",
    "        assert 0<iteration<self.n_gibbs_sim, \"iteration is larger than the number of iterations\"\n",
    "        assert y.ndim == 1, \"y must be a vector\"\n",
    "        p = np.exp(-0.5*np.power(y-self.gibbs_mean[iteration-1],2)/self.gibbs_var[iteration-1])\n",
    "        p /= np.sqrt(2*np.pi*self.gibbs_var[iteration-1])\n",
    "        return p\n",
    "    \n",
    "    def estimate(self, y:np.ndarray, **kwargs):\n",
    "        # cycle to test individually the inference!\n",
    "        self.gibbs_initialize(y)\n",
    "        for i in range(1, self.n_gibbs_sim):\n",
    "            self.gibbs_posterior_sample(y, i)\n",
    "        self.gibbs_burn_and_mean()\t\t\n",
    "    \n",
    "    def prob(self, y:np.ndarray,  **kwargs):\n",
    "        # use vectorized function\n",
    "        assert y.ndim == 1, \"y must be a vector\"\n",
    "        return np.exp(-0.5 * np.power(y - self.mean, 2) / self.var) / np.sqrt(2*np.pi*self.var)\n",
    "    \n",
    "    def posterior_predictive(self, **kwargs):\n",
    "        return self.mean, self.var\n",
    "    \n",
    "    def predict_pi(self, **kwargs):\n",
    "        return 1\n",
    "    \n",
    "# run bayesian inference\n",
    "y = np.random.normal(-1, np.sqrt(0.5), 1000)\n",
    "g = uGaussianEmission()\n",
    "g.estimate(y)\n",
    "g.view(True)"
   ]
  },
  {
   "cell_type": "code",
   "execution_count": null,
   "metadata": {},
   "outputs": [],
   "source": []
  },
  {
   "cell_type": "code",
   "execution_count": 117,
   "metadata": {},
   "outputs": [],
   "source": [
    "\n",
    "class uHMM(object):\n",
    "    def __init__(\n",
    "                self,\n",
    "                emissions:List[uEmission] = [],\n",
    "                n_gibbs = 1000,\n",
    "                A_zeros = [],\n",
    "                emissions_indexes = [],\n",
    "                f_burn = 0.1,\n",
    "                pred_l = None,\n",
    "                **kwargs\n",
    "                ):\n",
    "        '''\n",
    "        emissions: list of instances derived from Emission\n",
    "                one for each state\n",
    "        n_gibbs: number of gibbs samples\n",
    "        A_zeros: list of lists with entries of A to be set to zero\n",
    "        emissions_indexes: list of lists\n",
    "            example\n",
    "                    emissions_indexes = [[0,2],[1,3]]\n",
    "                means \n",
    "                    emission[0] is applied to states 0 and 2\n",
    "                    emission[1] is applied to states 1 and 3\n",
    "                also, this implies that the number of states is 4!\n",
    "        f_burn: fraction to burn  \n",
    "        '''\n",
    "        self.emissions = emissions   \n",
    "        self.n_gibbs = n_gibbs\n",
    "        self.f_burn = f_burn\n",
    "        self.A_zeros = A_zeros\n",
    "        self.emissions_indexes = emissions_indexes \n",
    "        if len(self.emissions_indexes) == 0:\n",
    "            self.n_states = len(self.emissions)\n",
    "            self.emissions_indexes = [[e] for e in range(self.n_states)]   \n",
    "        self.n_states = 0 \n",
    "        for e in self.emissions_indexes: self.n_states += len(e)\n",
    "        self.n_emissions = len(self.emissions)\n",
    "        assert len(self.emissions_indexes) == self.n_emissions, \"emissions do not match groups\"\n",
    "        # real number of samples to simulate\n",
    "        self.n_gibbs_sim = int(self.n_gibbs*(1+self.f_burn))\n",
    "        self.pred_l = None\n",
    "        self.P = None\n",
    "        self.gibbs_P = None\n",
    "        self.A = None\n",
    "        self.gibbs_A = None\n",
    "        self.w_norm = 1\n",
    "        # **\n",
    "        for emission in self.emissions:\n",
    "            emission.set_gibbs_parameters(self.n_gibbs, self.f_burn, self.n_gibbs_sim)\n",
    "        # **\n",
    "        # Dirichelet prior parameters\n",
    "        self.ALPHA = 1\n",
    "        self.ZERO_ALPHA = 0.001\n",
    "        self.ALPHA_P = 0.05 \n",
    "        # A initial mass (persistency)\n",
    "        self.INIT_MASS = 0.9\n",
    "        \n",
    "        self.TOL = 1e-16\n",
    "\n",
    "    def view(self, plot_hist = False):\n",
    "        '''\n",
    "        plot_hist: if true, plot histograms, otherwise just show the parameters\n",
    "        '''\n",
    "        print('** HMM **')\n",
    "        print('Groups')\n",
    "        for e in self.emissions_indexes:\n",
    "            print('States %s have the same emission'%','.join([str(a) for a in e]))\n",
    "        print('Initial state probability')\n",
    "        print(self.P)\n",
    "        if plot_hist:\n",
    "            for i in range(self.n_states):\n",
    "                plt.hist(self.gibbs_P[:,i], density=True, alpha=0.5, label='P[%s]'%(i))\n",
    "            plt.legend()\n",
    "            plt.grid(True)\n",
    "            plt.show()\n",
    "        print('State transition matrix')\n",
    "        print(np.round(self.A,3))\n",
    "        print()\n",
    "        if plot_hist:\n",
    "            for i in range(self.n_states):\n",
    "                for j in range(self.n_states):\n",
    "                    if [i,j] not in self.A_zeros:\n",
    "                        plt.hist(\n",
    "                                self.gibbs_A[:,i,j],\n",
    "                                density=True,\n",
    "                                alpha=0.5,\n",
    "                                label='A[%s->%s]'%(i,j)\n",
    "                                )\n",
    "            plt.legend()\n",
    "            plt.grid(True)\n",
    "            plt.show()\n",
    "        for s, emission in enumerate(self.emissions):\n",
    "            print(f'HMM Emission {s}')\n",
    "            emission.view(plot_hist = plot_hist)\n",
    "\n",
    "    def transitions_dirichlet_priors(self):\n",
    "        alphas = []\n",
    "        for s in range(self.n_states):\n",
    "            tmp = self.ALPHA*np.ones(self.n_states)\n",
    "            for e in self.A_zeros:\n",
    "                if e[0] == s:\n",
    "                    tmp[e[1]] = self.ZERO_ALPHA\n",
    "            alphas.append(tmp)\n",
    "        return alphas\n",
    "    \n",
    "    def estimate(self, y:np.ndarray, x:np.ndarray = None, msidx = None, **kwargs):\t \n",
    "        if y.ndim == 2:\n",
    "            assert y.shape[1] == 1, \"y must contain a single series\"\n",
    "            y = y[:,0]        \n",
    "        assert y.ndim == 1, \"y must be a vector\"\n",
    "        if x is not None:             \n",
    "            assert x.ndim == 2,\"x must be a matrix\"\n",
    "            assert y.size == x.shape[0], \"x and y must have the same number of observations\"\n",
    "        # **\n",
    "        # number of observations\n",
    "        n = y.size\n",
    "        \n",
    "        # idx for multisequence\n",
    "        if msidx is None:\n",
    "            msidx = np.array([[0,n]], dtype = int)\n",
    "        # convert to integer to make sure this is well defined\n",
    "        msidx = np.array(msidx, dtype = int)\n",
    "        # number of sequences\n",
    "        n_seqs = msidx.shape[0]\n",
    "        # **\n",
    "        # **\n",
    "        # Dirichlet prior\n",
    "        A_alphas = self.transitions_dirichlet_priors()\n",
    "        # **\n",
    "        # **\n",
    "        # Containers\n",
    "        # counter for state transitions\n",
    "        transition_counter = np.zeros((self.n_states, self.n_states)) \n",
    "        # counter for initial state observations\n",
    "        init_state_counter = np.zeros(self.n_states) \n",
    "        # # forward alpha\n",
    "        # forward_alpha = np.zeros((n,self.n_states), dtype = np.float64)\n",
    "        # # forward normalization variable\n",
    "        # forward_c = np.zeros(n, dtype = np.float64)\n",
    "        # probability of observation given state\n",
    "        prob = np.zeros((n,self.n_states), dtype = np.float64)         \n",
    "        # transition matrix samples\n",
    "        self.gibbs_A = np.zeros((self.n_gibbs_sim, self.n_states, self.n_states)) \n",
    "        # initial state probability samples\n",
    "        self.gibbs_P = np.zeros((self.n_gibbs_sim, self.n_states))\n",
    "        \n",
    "        # ** \n",
    "        # **\n",
    "        # Initialize\n",
    "        # Transition matrix A\n",
    "        # assume some persistency of state as a initial parameter\n",
    "        tmp = self.INIT_MASS * np.eye(self.n_states)\n",
    "        remaining_mass = (1-self.INIT_MASS) / (self.n_states - 1)\n",
    "        tmp[tmp == 0] = remaining_mass\t\n",
    "        # set zeros\n",
    "        for e in self.A_zeros:\n",
    "            tmp[e[0],e[1]] = 0\n",
    "        # normalize\n",
    "        tmp /= np.sum(tmp,axis=1)[:,None]\n",
    "        self.gibbs_A[0] = tmp\n",
    "        \n",
    "        # Initial State Distribution\n",
    "        self.gibbs_P[0] = np.ones(self.n_states)\n",
    "        self.gibbs_P[0] /= np.sum(self.gibbs_P[0])\t\t\n",
    "        # initialize emissions\n",
    "        for emission in self.emissions:\n",
    "            emission.gibbs_initialize(y = y, x = x)\n",
    "        # **\n",
    "\n",
    "        # **\n",
    "        # create and initialize variable with\n",
    "        # the states associated with each variable\n",
    "        # assume equal probability in states\n",
    "        z = np.random.choice(np.arange(self.n_states, dtype = int), size = n)\n",
    "        # **\n",
    "\n",
    "        # Gibbs sampler\n",
    "        for i in range(1, self.n_gibbs_sim):\n",
    "\n",
    "            # **\n",
    "            # set counters to zero\n",
    "            transition_counter *= 0 \n",
    "            init_state_counter *= 0 \n",
    "            # **\n",
    "            # evaluate the probability of each observation\n",
    "            for s in range(self.n_emissions):\n",
    "                prob[:,self.emissions_indexes[s]] = self.emissions[s].gibbs_prob(\n",
    "                                                                                y = y, \n",
    "                                                                                x = x, \n",
    "                                                                                iteration = i\n",
    "                                                                                )[:,None]\n",
    "            # fix for extreme events...\n",
    "            prob[prob<self.TOL] = self.TOL\n",
    "            # **\n",
    "            # sample form hidden state variable\n",
    "            for l in range(n_seqs):\n",
    "                # compute alpha variable\n",
    "                forward_alpha, _ = hmm_forward(\n",
    "                                        prob[msidx[l][0]:msidx[l][1]],\n",
    "                                        self.gibbs_A[i-1],\n",
    "                                        self.gibbs_P[i-1]\n",
    "                                        )\n",
    "                # backward walk to sample from the state sequence\n",
    "                hmm_backward_sample(\n",
    "                                    self.gibbs_A[i-1],\n",
    "                                    forward_alpha,\n",
    "                                    z[msidx[l][0]:msidx[l][1]],\n",
    "                                    transition_counter,\n",
    "                                    init_state_counter\n",
    "                                    )\n",
    "            # **\n",
    "            # sample from transition matrix\n",
    "            for s in range(self.n_states):\n",
    "                self.gibbs_A[i,s] = np.random.dirichlet(A_alphas[s] + transition_counter[s])\n",
    "            # make sure that the entries are zero!\n",
    "            for A_zero in self.A_zeros:\n",
    "                self.gibbs_A[i, A_zero[0], A_zero[1]] = 0.\n",
    "            # normalize \n",
    "            self.gibbs_A[i] /= np.sum(self.gibbs_A[i],axis=1)[:,None]\n",
    "            # **\n",
    "            # sample from initial state distribution\n",
    "            self.gibbs_P[i] = np.random.dirichlet(self.ALPHA_P + init_state_counter)   \n",
    "            # perform the gibbs step with the state sequence sample q\n",
    "            for s in range(self.n_emissions):\n",
    "                idx_states = np.where(np.in1d(z, self.emissions_indexes[s]))[0]\n",
    "                self.emissions[s].gibbs_posterior_sample(\n",
    "                                                        y = y[idx_states],\n",
    "                                                        x = None if x is None else x[idx_states],\n",
    "                                                        iteration = i\n",
    "                                                        )\n",
    "\n",
    "        # burn observations\n",
    "        self.gibbs_A = self.gibbs_A[-self.n_gibbs:]\n",
    "        self.gibbs_P = self.gibbs_P[-self.n_gibbs:]\n",
    "        for emission in self.emissions:\n",
    "            emission.gibbs_burn_and_mean()\n",
    "        # take mean\n",
    "        self.A = np.mean(self.gibbs_A, axis = 0)\n",
    "        self.P = np.mean(self.gibbs_P, axis = 0)\n",
    "        # normalization constant\n",
    "        self.w_norm = 0\n",
    "        for s in range(self.n_emissions):\n",
    "            self.w_norm = max(self.w_norm, self.emissions[s].w_norm)\n",
    "        if self.w_norm == 0: self.w_norm = 1\n",
    "\n",
    "    def next_state_prob(self, y:np.ndarray, x:np.ndarray = None, l:int = None):\n",
    "        '''\n",
    "        computes a vector with the next state probability\n",
    "        given a input sequence\n",
    "        xyq: numpy (n,self.p) array with observation\n",
    "        l: integer to filter recent data in y -> y=y[-l:]\n",
    "        '''\n",
    "        if y.ndim == 2:\n",
    "            assert y.shape[1] == 1, \"y must contain a single series\"\n",
    "            y = y[:,0]        \n",
    "        assert y.ndim == 1, \"y must be a vector\"\n",
    "        if x is not None:             \n",
    "            assert x.ndim == 2,\"x must be a matrix\"\n",
    "            assert y.size == x.shape[0], \"x and y must have the same number of observations\"\n",
    "        # just return the initial state probability \n",
    "        if y.size == 0:\n",
    "            return self.P\n",
    "        if l is not None:\n",
    "            y = y[-l:]\n",
    "            if x is not None: x = x[-l:]\n",
    "        n = y.size\n",
    "        prob = np.zeros((n, self.n_states), dtype = np.float64) \n",
    "        # evaluate the probability of each observation\n",
    "        for s in range(self.n_emissions):\n",
    "            prob[:,self.emissions_indexes[s]] = self.emissions[s].prob(\n",
    "                                                                        y = y, \n",
    "                                                                        x = x,\n",
    "                                                                        )[:,None] \n",
    "        # fix for extreme events...\n",
    "        prob[prob<self.TOL] = self.TOL\n",
    "            \n",
    "        alpha, _ = hmm_forward(prob, self.A, self.P)\n",
    "        next_state_prob = np.dot(self.A.T, alpha[-1])  \n",
    "        return next_state_prob\t\n",
    "    \n",
    "\n",
    "    def get_weight(\n",
    "                self, \n",
    "                y:np.ndarray, \n",
    "                x:np.ndarray = None, \n",
    "                xq:np.ndarray = None, \n",
    "                normalize = True, \n",
    "                **kwargs\n",
    "                ):\n",
    "        '''\n",
    "        compute betting weight given an input sequence\n",
    "        y: numpy (n,p) array with a sequence\n",
    "            each point is a joint observations of the variables\n",
    "        l: integer to filter recent data in y -> y=y[-l:]\n",
    "        returns:\n",
    "            w: numpy (p,) array with weights to allocate to each asset\n",
    "            in y\n",
    "        '''\n",
    "        if y.ndim == 2:\n",
    "            assert y.shape[1] == 1, \"y must contain a single series\"\n",
    "            y = y[:,0]        \n",
    "        assert y.ndim == 1, \"y must be a vector\"\n",
    "        \n",
    "        if y.size<5:\n",
    "            return np.atleast_1d(0)\n",
    "        \n",
    "        # next state probability for all states\n",
    "        next_state_prob_ = self.next_state_prob(y, x, self.pred_l)\n",
    "        # group next state prob\n",
    "        next_state_prob = np.zeros(self.n_emissions)\n",
    "        for s, e in enumerate(self.emissions_indexes):\n",
    "            next_state_prob[s] = np.sum(next_state_prob_[e])\n",
    "\n",
    "        # correct weighting of predicitve mixture in case\n",
    "        # the hidden states have predictors\n",
    "        for s in range(self.n_emissions):\n",
    "             next_state_prob[s] *= self.emissions[s].predict_pi(xq = xq)\n",
    "        next_state_prob /= np.sum(next_state_prob)\n",
    "\n",
    "        # build the mixture\n",
    "        mixture_mean = 0\n",
    "        mixture_var = 0\n",
    "        for s in range(self.n_emissions):\n",
    "            mean, var = self.emissions[s].posterior_predictive(xq = xq)\n",
    "            mixture_mean += next_state_prob[s]*mean\n",
    "            mixture_var += next_state_prob[s]*(var + mean*mean)\n",
    "        mixture_var -= mixture_mean*mixture_mean\n",
    "        w = mixture_mean / mixture_var\n",
    "        if normalize:\n",
    "            w /= self.w_norm\n",
    "        return np.atleast_1d(w)\n",
    "    \n",
    "    \n",
    "    def _evaluate(self, y:np.ndarray, x:np.ndarray = None, **kwargs):\n",
    "\n",
    "        if y.ndim == 2:\n",
    "            assert y.shape[1] == 1, \"y must contain a single series\"\n",
    "            y = y[:,0]           \n",
    "        n = y.size\n",
    "        if x is None:\n",
    "            x = [None]*n\n",
    "        prob = np.zeros((n,self.n_states), dtype = np.float64)   \n",
    "        for s in range(self.n_emissions):\n",
    "            prob[:,self.emissions_indexes[s]] = self.emissions[s].prob(\n",
    "                                                                        y = y, \n",
    "                                                                        x = x, \n",
    "                                                                        )[:,None]\n",
    "        # fix for extreme events...\n",
    "        prob[prob<self.TOL] = self.TOL\n",
    "            \n",
    "        alpha, _ = hmm_forward(prob, self.A, self.P)\n",
    "        # vectorized computation\n",
    "        next_state_probs_ = alpha@self.A\n",
    "        # group next state prob\n",
    "        next_state_probs = np.zeros((n, self.n_emissions))\n",
    "        for s, e in enumerate(self.emissions_indexes):\n",
    "            next_state_probs[:,s] = np.sum(next_state_probs_[:,e], axis = 1)        \n",
    "        # compute weights sequentially\n",
    "        w = np.zeros(n)\n",
    "        for i in range(1, n):\n",
    "            # correct weighting of predicitve mixture in case\n",
    "            # the hidden states have predictors\n",
    "            next_state_prob = next_state_probs[i-1]\n",
    "            for s in range(self.n_emissions):\n",
    "                 next_state_prob[s] *= self.emissions[s].predict_pi(xq = x[i])\n",
    "            next_state_prob /= np.sum(next_state_prob)\n",
    "            # build the mixture\n",
    "            mixture_mean = 0\n",
    "            mixture_var = 0\n",
    "            for s in range(self.n_emissions):\n",
    "                mean, var = self.emissions[s].posterior_predictive(xq = x[i])\n",
    "                mixture_mean += next_state_prob[s]*mean\n",
    "                mixture_var += next_state_prob[s]*(var + mean*mean)\n",
    "            mixture_var -= mixture_mean*mixture_mean\n",
    "            w[i] = mixture_mean / mixture_var\n",
    "            w[i] /= self.w_norm\n",
    "        return w[:,None]\n",
    "    "
   ]
  },
  {
   "cell_type": "code",
   "execution_count": null,
   "metadata": {},
   "outputs": [],
   "source": []
  },
  {
   "cell_type": "code",
   "execution_count": null,
   "metadata": {},
   "outputs": [],
   "source": []
  },
  {
   "cell_type": "code",
   "execution_count": 80,
   "metadata": {},
   "outputs": [
    {
     "name": "stdout",
     "output_type": "stream",
     "text": [
      "dict_keys(['XP', 'EO', 'CF', 'GX', 'Z ', 'ST', 'IB', 'ES', 'NQ', 'PT', 'TP'])\n"
     ]
    },
    {
     "data": {
      "image/png": "[encoded data removed]",
      "text/plain": [
       "<Figure size 432x288 with 1 Axes>"
      ]
     },
     "metadata": {
      "needs_background": "dark"
     },
     "output_type": "display_data"
    },
    {
     "data": {
      "image/png": "[encoded data removed]",
      "text/plain": [
       "<Figure size 432x288 with 1 Axes>"
      ]
     },
     "metadata": {
      "needs_background": "dark"
     },
     "output_type": "display_data"
    }
   ],
   "source": [
    "# test on STM with real data\n",
    "import stm\n",
    "import pickle\n",
    "import pandas as pd\n",
    "data = {}\n",
    "filepath = 'indexes_data.pkl'\n",
    "#filepath = 'fi_data.pkl'\n",
    "#filepath = 'comm_data.pkl'\n",
    "\n",
    "# load from pickle\n",
    "with open(filepath, 'rb') as inp:\n",
    "    tmp = pickle.load(inp)\n",
    "    data.update(tmp) \n",
    "print(data.keys())\n",
    "data = data['ES']\n",
    "data.columns = data.columns.droplevel(1)\n",
    "data = data[[data.columns[0]]].dropna().pct_change().dropna()\n",
    "data.columns = ['y']\n",
    "data.index = pd.to_datetime(data.index)\n",
    "data.plot()\n",
    "plt.show()\n",
    "np.cumsum(data, axis = 0).plot()\n",
    "plt.show()"
   ]
  },
  {
   "cell_type": "code",
   "execution_count": null,
   "metadata": {},
   "outputs": [],
   "source": []
  },
  {
   "cell_type": "code",
   "execution_count": 179,
   "metadata": {},
   "outputs": [
    {
     "data": {
      "text/html": [
       "<div>\n",
       "<style scoped>\n",
       "    .dataframe tbody tr th:only-of-type {\n",
       "        vertical-align: middle;\n",
       "    }\n",
       "\n",
       "    .dataframe tbody tr th {\n",
       "        vertical-align: top;\n",
       "    }\n",
       "\n",
       "    .dataframe thead th {\n",
       "        text-align: right;\n",
       "    }\n",
       "</style>\n",
       "<table border=\"1\" class=\"dataframe\">\n",
       "  <thead>\n",
       "    <tr style=\"text-align: right;\">\n",
       "      <th></th>\n",
       "      <th>NAS100_USD</th>\n",
       "    </tr>\n",
       "    <tr>\n",
       "      <th>TIMESTAMP</th>\n",
       "      <th></th>\n",
       "    </tr>\n",
       "  </thead>\n",
       "  <tbody>\n",
       "    <tr>\n",
       "      <th>2004-01-02 06:00:00-05:00</th>\n",
       "      <td>1472.6</td>\n",
       "    </tr>\n",
       "    <tr>\n",
       "      <th>2004-01-02 07:00:00-05:00</th>\n",
       "      <td>1479.6</td>\n",
       "    </tr>\n",
       "    <tr>\n",
       "      <th>2004-01-02 08:00:00-05:00</th>\n",
       "      <td>1477.6</td>\n",
       "    </tr>\n",
       "    <tr>\n",
       "      <th>2004-01-02 09:00:00-05:00</th>\n",
       "      <td>1479.6</td>\n",
       "    </tr>\n",
       "    <tr>\n",
       "      <th>2004-01-02 10:00:00-05:00</th>\n",
       "      <td>1477.1</td>\n",
       "    </tr>\n",
       "    <tr>\n",
       "      <th>...</th>\n",
       "      <td>...</td>\n",
       "    </tr>\n",
       "    <tr>\n",
       "      <th>2024-12-17 08:00:00-05:00</th>\n",
       "      <td>22034.1</td>\n",
       "    </tr>\n",
       "    <tr>\n",
       "      <th>2024-12-17 09:00:00-05:00</th>\n",
       "      <td>22031.2</td>\n",
       "    </tr>\n",
       "    <tr>\n",
       "      <th>2024-12-17 10:00:00-05:00</th>\n",
       "      <td>21986.5</td>\n",
       "    </tr>\n",
       "    <tr>\n",
       "      <th>2024-12-17 11:00:00-05:00</th>\n",
       "      <td>21988.5</td>\n",
       "    </tr>\n",
       "    <tr>\n",
       "      <th>2024-12-17 12:00:00-05:00</th>\n",
       "      <td>22019.1</td>\n",
       "    </tr>\n",
       "  </tbody>\n",
       "</table>\n",
       "<p>125721 rows × 1 columns</p>\n",
       "</div>"
      ],
      "text/plain": [
       "                           NAS100_USD\n",
       "TIMESTAMP                            \n",
       "2004-01-02 06:00:00-05:00      1472.6\n",
       "2004-01-02 07:00:00-05:00      1479.6\n",
       "2004-01-02 08:00:00-05:00      1477.6\n",
       "2004-01-02 09:00:00-05:00      1479.6\n",
       "2004-01-02 10:00:00-05:00      1477.1\n",
       "...                               ...\n",
       "2024-12-17 08:00:00-05:00     22034.1\n",
       "2024-12-17 09:00:00-05:00     22031.2\n",
       "2024-12-17 10:00:00-05:00     21986.5\n",
       "2024-12-17 11:00:00-05:00     21988.5\n",
       "2024-12-17 12:00:00-05:00     22019.1\n",
       "\n",
       "[125721 rows x 1 columns]"
      ]
     },
     "execution_count": 179,
     "metadata": {},
     "output_type": "execute_result"
    }
   ],
   "source": [
    "import datasetutils\n",
    "reader = datasetutils.Reader()\n",
    "\n",
    "instrument = 'WTICO_USD'\n",
    "instrument = 'NAS100_USD'\n",
    "granularity = 'H1'\n",
    "to_tz = 'US/Eastern'\n",
    "load_data = reader.read_cfd_files(instrument, granularity, to_tz = to_tz, column = 'MID_OPEN')\n",
    "load_data"
   ]
  },
  {
   "cell_type": "code",
   "execution_count": 180,
   "metadata": {},
   "outputs": [
    {
     "data": {
      "image/png": "[encoded data removed]",
      "text/plain": [
       "<Figure size 432x288 with 1 Axes>"
      ]
     },
     "metadata": {
      "needs_background": "dark"
     },
     "output_type": "display_data"
    },
    {
     "data": {
      "image/png": "[encoded data removed]",
      "text/plain": [
       "<Figure size 432x288 with 1 Axes>"
      ]
     },
     "metadata": {
      "needs_background": "dark"
     },
     "output_type": "display_data"
    }
   ],
   "source": [
    "data = load_data.pct_change().dropna()\n",
    "data.columns = ['y']\n",
    "data.index = pd.to_datetime(data.index)\n",
    "data.plot()\n",
    "plt.show()\n",
    "np.cumsum(data, axis = 0).plot()\n",
    "plt.show()"
   ]
  },
  {
   "cell_type": "code",
   "execution_count": 182,
   "metadata": {},
   "outputs": [
    {
     "name": "stdout",
     "output_type": "stream",
     "text": [
      "(2510, 250)\n"
     ]
    },
    {
     "data": {
      "image/png": "[encoded data removed]",
      "text/plain": [
       "<Figure size 432x288 with 1 Axes>"
      ]
     },
     "metadata": {
      "needs_background": "dark"
     },
     "output_type": "display_data"
    },
    {
     "data": {
      "image/png": "[encoded data removed]",
      "text/plain": [
       "<Figure size 432x288 with 1 Axes>"
      ]
     },
     "metadata": {
      "needs_background": "dark"
     },
     "output_type": "display_data"
    },
    {
     "name": "stdout",
     "output_type": "stream",
     "text": [
      "POS:  0.0001173140160988442 5.891760400718073e-06\n",
      "NEG:  -0.0001236766021716224 1.1035415983975358e-05\n",
      "[ True  True  True False  True  True  True  True False False]\n",
      "0.8182542845755281\n",
      "0.8182542845755281\n",
      "[ True  True  True  True False False False False False  True]\n"
     ]
    }
   ],
   "source": [
    "# try a simpler model\n",
    "y = data.values.ravel()\n",
    "e = 250\n",
    "delta = 50\n",
    "ye = np.lib.stride_tricks.sliding_window_view(y, e)\n",
    "ye = ye[np.arange(0, ye.shape[0], delta )]\n",
    "print(ye.shape)\n",
    "\n",
    "yem = np.mean(ye, axis = 1)\n",
    "yev = np.var(ye, axis = 1)\n",
    "\n",
    "yem_pos_idx = yem > 0\n",
    "yem_neg_idx = ~yem_pos_idx\n",
    "plt.hist(yem[yem_pos_idx])\n",
    "plt.show()\n",
    "plt.hist(yem[yem_neg_idx])\n",
    "plt.show()\n",
    "print('POS: ', np.mean(yem[yem_pos_idx]), np.mean(yev[yem_pos_idx]))\n",
    "print('NEG: ', np.mean(yem[yem_neg_idx]), np.mean(yev[yem_neg_idx]))\n",
    "\n",
    "# evaluate transition prob\n",
    "a11 = yem_pos_idx[1:] == yem_pos_idx[:-1]\n",
    "print(a11[:10])\n",
    "print(a11.sum()/a11.size)\n",
    "a22 = yem_neg_idx[1:] == yem_neg_idx[:-1]\n",
    "print(a22.sum()/a22.size)\n",
    "\n",
    "print(yem_pos_idx[:10])\n"
   ]
  },
  {
   "cell_type": "code",
   "execution_count": null,
   "metadata": {},
   "outputs": [],
   "source": []
  },
  {
   "cell_type": "code",
   "execution_count": null,
   "metadata": {},
   "outputs": [],
   "source": []
  },
  {
   "cell_type": "code",
   "execution_count": null,
   "metadata": {},
   "outputs": [],
   "source": []
  },
  {
   "cell_type": "code",
   "execution_count": null,
   "metadata": {},
   "outputs": [],
   "source": []
  },
  {
   "cell_type": "code",
   "execution_count": 130,
   "metadata": {},
   "outputs": [
    {
     "name": "stderr",
     "output_type": "stream",
     "text": [
      "100%|████████████████████████████████████████████████████████████████████████████████████| 1/1 [00:42<00:00, 42.49s/it]\n"
     ]
    },
    {
     "data": {
      "image/png": "[encoded data removed]",
      "text/plain": [
       "<Figure size 432x288 with 1 Axes>"
      ]
     },
     "metadata": {
      "needs_background": "dark"
     },
     "output_type": "display_data"
    },
    {
     "data": {
      "image/png": "[encoded data removed]",
      "text/plain": [
       "<Figure size 432x288 with 1 Axes>"
      ]
     },
     "metadata": {
      "needs_background": "dark"
     },
     "output_type": "display_data"
    },
    {
     "data": {
      "image/png": "[encoded data removed]",
      "text/plain": [
       "<Figure size 432x288 with 1 Axes>"
      ]
     },
     "metadata": {
      "needs_background": "dark"
     },
     "output_type": "display_data"
    },
    {
     "data": {
      "image/png": "[encoded data removed]",
      "text/plain": [
       "<Figure size 432x288 with 1 Axes>"
      ]
     },
     "metadata": {
      "needs_background": "dark"
     },
     "output_type": "display_data"
    },
    {
     "name": "stdout",
     "output_type": "stream",
     "text": [
      "** REJECT STRATEGY **\n"
     ]
    },
    {
     "data": {
      "image/png": "[encoded data removed]",
      "text/plain": [
       "<Figure size 432x288 with 1 Axes>"
      ]
     },
     "metadata": {
      "needs_background": "dark"
     },
     "output_type": "display_data"
    },
    {
     "name": "stdout",
     "output_type": "stream",
     "text": [
      "\n",
      "** PERFORMANCE SUMMARY **\n",
      "\n",
      "Return:  -0.00011820054264087534\n",
      "Standard deviation:  0.02786922767968324\n",
      "Sharpe:  -0.004241256485447708\n",
      "\n"
     ]
    }
   ],
   "source": [
    "dataset = stm.Dataset()\n",
    "dataset.add('dataset', data)\n",
    "model_pipe = stm.ModelPipe()\n",
    "\n",
    "emissions = [uGaussianEmission(), uGaussianEmission()]\n",
    "uhmm = uHMM(\n",
    "            emissions = emissions,\n",
    "            n_gibbs = 100,\n",
    "            )\n",
    "\n",
    "\n",
    "\n",
    "\n",
    "\n",
    "model_pipe.add('dataset', model = uhmm)\n",
    "paths = stm.cvbt(\n",
    "        dataset = dataset, \n",
    "        model_pipe = model_pipe,\n",
    "        n_paths = 1\n",
    "     )\n",
    "\n",
    "paths.post_process()"
   ]
  },
  {
   "cell_type": "code",
   "execution_count": 131,
   "metadata": {},
   "outputs": [
    {
     "data": {
      "image/png": "[encoded data removed]",
      "text/plain": [
       "<Figure size 432x288 with 1 Axes>"
      ]
     },
     "metadata": {
      "needs_background": "dark"
     },
     "output_type": "display_data"
    },
    {
     "data": {
      "image/png": "[encoded data removed]",
      "text/plain": [
       "<Figure size 432x288 with 1 Axes>"
      ]
     },
     "metadata": {
      "needs_background": "dark"
     },
     "output_type": "display_data"
    },
    {
     "data": {
      "image/png": "[encoded data removed]",
      "text/plain": [
       "<Figure size 432x288 with 1 Axes>"
      ]
     },
     "metadata": {
      "needs_background": "dark"
     },
     "output_type": "display_data"
    },
    {
     "data": {
      "image/png": "[encoded data removed]",
      "text/plain": [
       "<Figure size 432x288 with 1 Axes>"
      ]
     },
     "metadata": {
      "needs_background": "dark"
     },
     "output_type": "display_data"
    },
    {
     "name": "stdout",
     "output_type": "stream",
     "text": [
      "** REJECT STRATEGY **\n"
     ]
    },
    {
     "data": {
      "image/png": "[encoded data removed]",
      "text/plain": [
       "<Figure size 432x288 with 1 Axes>"
      ]
     },
     "metadata": {
      "needs_background": "dark"
     },
     "output_type": "display_data"
    },
    {
     "name": "stdout",
     "output_type": "stream",
     "text": [
      "\n",
      "** PERFORMANCE SUMMARY **\n",
      "\n",
      "Return:  -0.0012143884810352178\n",
      "Standard deviation:  0.027869464874838892\n",
      "Sharpe:  -0.043574158545526716\n",
      "\n"
     ]
    }
   ],
   "source": [
    "paths.post_process(pct_fee = 0.01/100, seq_fees = True)"
   ]
  },
  {
   "cell_type": "code",
   "execution_count": null,
   "metadata": {},
   "outputs": [],
   "source": []
  },
  {
   "cell_type": "code",
   "execution_count": null,
   "metadata": {},
   "outputs": [],
   "source": []
  },
  {
   "cell_type": "code",
   "execution_count": 168,
   "metadata": {},
   "outputs": [
    {
     "name": "stdout",
     "output_type": "stream",
     "text": [
      "(4189, 60)\n",
      "POS:  0.00023928726191270916 6.521368147839415e-06\n",
      "NEG:  -0.0002592994550767039 9.412861916829688e-06\n",
      "[ True  True  True  True False False  True  True False  True]\n",
      "0.6809933142311366\n",
      "0.6809933142311366\n",
      "[ True  True  True  True  True False  True  True  True False]\n"
     ]
    }
   ],
   "source": [
    "\n"
   ]
  },
  {
   "cell_type": "code",
   "execution_count": null,
   "metadata": {},
   "outputs": [],
   "source": []
  }
 ],
 "metadata": {
  "kernelspec": {
   "display_name": "Python 3",
   "language": "python",
   "name": "python3"
  },
  "language_info": {
   "codemirror_mode": {
    "name": "ipython",
    "version": 3
   },
   "file_extension": ".py",
   "mimetype": "text/x-python",
   "name": "python",
   "nbconvert_exporter": "python",
   "pygments_lexer": "ipython3",
   "version": "3.8.5"
  }
 },
 "nbformat": 4,
 "nbformat_minor": 4
}
